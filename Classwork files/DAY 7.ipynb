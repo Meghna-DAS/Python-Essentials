{
 "cells": [
  {
   "cell_type": "code",
   "execution_count": 4,
   "metadata": {},
   "outputs": [
    {
     "name": "stdout",
     "output_type": "stream",
     "text": [
      "50\n"
     ]
    }
   ],
   "source": [
    "def func1(a,b):\n",
    "    c=a+b\n",
    "    return c\n",
    "res=func1(10,20)+20\n",
    "print(res)"
   ]
  },
  {
   "cell_type": "code",
   "execution_count": 12,
   "metadata": {},
   "outputs": [
    {
     "name": "stdout",
     "output_type": "stream",
     "text": [
      "Name age marks\n",
      "Manish 30 80\n",
      "bhaskar 32 60\n",
      "Sahil 32 90\n"
     ]
    }
   ],
   "source": [
    "def fun1(name,age=32,marks=60):\n",
    "    print(name,age,marks)\n",
    "print(\"Name\",\"age\",\"marks\")    \n",
    "fun1(\"Manish\",30,80)\n",
    "fun1(\"bhaskar\")\n",
    "fun1(\"Sahil\",marks=90)"
   ]
  },
  {
   "cell_type": "code",
   "execution_count": 18,
   "metadata": {},
   "outputs": [
    {
     "name": "stdout",
     "output_type": "stream",
     "text": [
      "12 ()\n",
      "10 (20,)\n",
      "4 (5, 1, 6, 9, 4)\n"
     ]
    }
   ],
   "source": [
    "def fun1(a,*args):\n",
    "    print(a,args)\n",
    "\n",
    "fun1(12)\n",
    "fun1(10,20)\n",
    "fun1(4,5,1,6,9,4)"
   ]
  },
  {
   "cell_type": "code",
   "execution_count": 22,
   "metadata": {},
   "outputs": [
    {
     "name": "stdout",
     "output_type": "stream",
     "text": [
      "{'name': 'xyz', 'marks': 70} <class 'dict'>\n"
     ]
    }
   ],
   "source": [
    "def fun1(**kwargs):\n",
    "    print(kwargs,type(kwargs))\n",
    "fun1(name=\"xyz\",marks=70)"
   ]
  },
  {
   "cell_type": "code",
   "execution_count": 26,
   "metadata": {},
   "outputs": [
    {
     "name": "stdout",
     "output_type": "stream",
     "text": [
      "inside before appending [4, 5, 6] 2329927777800\n",
      "After appending [4, 5, 6] 2329927777800\n",
      "after calling [4, 5, 6] 2329927777800\n"
     ]
    }
   ],
   "source": [
    "def fun1(list1):\n",
    "    print(\"inside before appending\",list1, id(list1))\n",
    "    #list1.append(20)\n",
    "    print(\"After appending\",list1,id(list1))\n",
    "list2=[4,5,6]\n",
    "fun1(list2)\n",
    "print(\"after calling\",list2, id(list2))"
   ]
  },
  {
   "cell_type": "code",
   "execution_count": 25,
   "metadata": {},
   "outputs": [
    {
     "name": "stdout",
     "output_type": "stream",
     "text": [
      "inside before 30 140730959242544\n",
      "inside after 40 140730959242864\n",
      "After 30 140730959242544\n"
     ]
    }
   ],
   "source": [
    "def fun1(a):\n",
    "    print(\"inside before\", a, id(a))\n",
    "    a=a+10\n",
    "    print(\"inside after\", a, id(a))\n",
    "a=30\n",
    "fun1(a)\n",
    "print(\"After\",a, id(a))"
   ]
  },
  {
   "cell_type": "code",
   "execution_count": 35,
   "metadata": {},
   "outputs": [
    {
     "name": "stdout",
     "output_type": "stream",
     "text": [
      "30\n",
      "after calling 30\n"
     ]
    }
   ],
   "source": [
    "#k=10\n",
    "def fun1():\n",
    "    global k\n",
    "    k=30 #local\n",
    "    print(k)\n",
    "k=10 #global\n",
    "fun1()\n",
    "print(\"after calling\",k)"
   ]
  },
  {
   "cell_type": "code",
   "execution_count": null,
   "metadata": {},
   "outputs": [],
   "source": []
  }
 ],
 "metadata": {
  "kernelspec": {
   "display_name": "Python 3",
   "language": "python",
   "name": "python3"
  },
  "language_info": {
   "codemirror_mode": {
    "name": "ipython",
    "version": 3
   },
   "file_extension": ".py",
   "mimetype": "text/x-python",
   "name": "python",
   "nbconvert_exporter": "python",
   "pygments_lexer": "ipython3",
   "version": "3.7.6"
  }
 },
 "nbformat": 4,
 "nbformat_minor": 4
}
